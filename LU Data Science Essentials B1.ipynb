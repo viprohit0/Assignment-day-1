{
 "cells": [
  {
   "cell_type": "markdown",
   "metadata": {},
   "source": [
    "# Assignment Day 1"
   ]
  },
  {
   "cell_type": "raw",
   "metadata": {},
   "source": [
    "Questions 1:\n",
    "Given the following jumbled word, OBANWRI guess the correct English word.\n",
    "\n",
    "A. RANIBOW\n",
    "B. RAINBOW\n",
    "C. BOWRANI\n",
    "D. ROBWANI\n",
    "\n",
    "Ans (B).RAINBOW"
   ]
  },
  {
   "cell_type": "code",
   "execution_count": 10,
   "metadata": {},
   "outputs": [
    {
     "name": "stdout",
     "output_type": "stream",
     "text": [
      "LETS UPGRADE\n"
     ]
    }
   ],
   "source": [
    "#Question no.2\n",
    "\n",
    "a= \"LETS UPGRADE\"\n",
    "print(a)"
   ]
  },
  {
   "cell_type": "code",
   "execution_count": 15,
   "metadata": {},
   "outputs": [
    {
     "name": "stdout",
     "output_type": "stream",
     "text": [
      "90\n",
      "100\n",
      "Profit\n"
     ]
    }
   ],
   "source": [
    "#Question no.3\n",
    "\n",
    "cost_price=int(input())\n",
    "selling_price=int(input())\n",
    "if cost_price<selling_price:\n",
    "    print(\"Profit\")\n",
    "elif cost_price==selling_price:\n",
    "    print(\"Neither\")\n",
    "else:\n",
    "    print(\"Loss\")\n",
    "        \n",
    "        \n",
    "        "
   ]
  },
  {
   "cell_type": "code",
   "execution_count": 18,
   "metadata": {},
   "outputs": [
    {
     "name": "stdout",
     "output_type": "stream",
     "text": [
      "20\n",
      "1600\n"
     ]
    }
   ],
   "source": [
    "#Question no.4\n",
    "\n",
    "euro=int(input())\n",
    "rupees=euro*80\n",
    "print(rupees)"
   ]
  },
  {
   "cell_type": "code",
   "execution_count": null,
   "metadata": {},
   "outputs": [],
   "source": []
  }
 ],
 "metadata": {
  "kernelspec": {
   "display_name": "Python 3",
   "language": "python",
   "name": "python3"
  },
  "language_info": {
   "codemirror_mode": {
    "name": "ipython",
    "version": 3
   },
   "file_extension": ".py",
   "mimetype": "text/x-python",
   "name": "python",
   "nbconvert_exporter": "python",
   "pygments_lexer": "ipython3",
   "version": "3.7.4"
  }
 },
 "nbformat": 4,
 "nbformat_minor": 2
}
